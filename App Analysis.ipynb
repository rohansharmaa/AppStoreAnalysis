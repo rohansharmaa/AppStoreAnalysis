{
 "cells": [
  {
   "cell_type": "markdown",
   "metadata": {},
   "source": [
    "# Data Analysis of AppStore and PlayStore apps\n",
    "\n",
    "This project is a practise project for data analysis.\n",
    "We are going to sort through a data set containing lists of apps and corresponding information and apply Pythin techniques to understand what kind of apps are likely to attract more users on the PlayStore. <br>\n",
    "We are making use of two datasets, one for the Apple Playstore and one for the Google Playstore. <br>\n",
    "The Apple AppStore dataset can be found [here](https://www.kaggle.com/ramamet4/app-store-apple-data-set-10k-apps). <br>\n",
    "The Google PlayStore dataset can be found [here](https://www.kaggle.com/lava18/google-play-store-apps).\n",
    "<br><br>\n"
   ]
  },
  {
   "cell_type": "code",
   "execution_count": 1,
   "metadata": {},
   "outputs": [],
   "source": [
    "from csv import reader\n",
    "playstore_dataset=open('googleplaystore.csv',encoding='utf8')\n",
    "read_file=reader(playstore_dataset)\n",
    "playstore=list(read_file)\n",
    "playstore_header=playstore[0]\n",
    "playstore_apps=playstore[1:]\n",
    "\n",
    "applestore_dataset=open('AppleStore.csv', encoding='utf8')\n",
    "read_file=reader(applestore_dataset)\n",
    "applestore=list(read_file)\n",
    "applestore_header=applestore[0]\n",
    "applestore_apps=applestore[1:]"
   ]
  },
  {
   "cell_type": "markdown",
   "metadata": {},
   "source": [
    "First we create a function that allows us to explore the datasets. This can help identify the rows and columns of the dataset and help us decide which parts of the data we can use for further analysis."
   ]
  },
  {
   "cell_type": "code",
   "execution_count": 2,
   "metadata": {},
   "outputs": [],
   "source": [
    "def explore_data(dataset,start,end,length=False):\n",
    "    dataset_new=dataset[start:end]\n",
    "    for row in dataset_new:\n",
    "        print(row)\n",
    "        print('\\n')\n",
    "    if length==True:\n",
    "        print('The number of rows is: ',len(dataset))\n",
    "        print('The number of columns is ',len(dataset[0]))"
   ]
  },
  {
   "cell_type": "code",
   "execution_count": 3,
   "metadata": {},
   "outputs": [
    {
     "name": "stdout",
     "output_type": "stream",
     "text": [
      "This is a glimpse of the Apple AppStore dataset: \n",
      "\n",
      "['id', 'track_name', 'size_bytes', 'currency', 'price', 'rating_count_tot', 'rating_count_ver', 'user_rating', 'user_rating_ver', 'ver', 'cont_rating', 'prime_genre', 'sup_devices.num', 'ipadSc_urls.num', 'lang.num', 'vpp_lic']\n",
      "\n",
      "\n",
      "['284882215', 'Facebook', '389879808', 'USD', '0.0', '2974676', '212', '3.5', '3.5', '95.0', '4+', 'Social Networking', '37', '1', '29', '1']\n",
      "\n",
      "\n",
      "['389801252', 'Instagram', '113954816', 'USD', '0.0', '2161558', '1289', '4.5', '4.0', '10.23', '12+', 'Photo & Video', '37', '0', '29', '1']\n",
      "\n",
      "\n",
      "['529479190', 'Clash of Clans', '116476928', 'USD', '0.0', '2130805', '579', '4.5', '4.5', '9.24.12', '9+', 'Games', '38', '5', '18', '1']\n",
      "\n",
      "\n",
      "['420009108', 'Temple Run', '65921024', 'USD', '0.0', '1724546', '3842', '4.5', '4.0', '1.6.2', '9+', 'Games', '40', '5', '1', '1']\n",
      "\n",
      "\n",
      "['284035177', 'Pandora - Music & Radio', '130242560', 'USD', '0.0', '1126879', '3594', '4.0', '4.5', '8.4.1', '12+', 'Music', '37', '4', '1', '1']\n",
      "\n",
      "\n",
      "\n",
      "\n",
      "\n",
      "\n",
      "This is a glimpse of the Google PlayStore dataset: \n",
      "\n",
      "['App', 'Category', 'Rating', 'Reviews', 'Size', 'Installs', 'Type', 'Price', 'Content Rating', 'Genres', 'Last Updated', 'Current Ver', 'Android Ver']\n",
      "\n",
      "\n",
      "['Photo Editor & Candy Camera & Grid & ScrapBook', 'ART_AND_DESIGN', '4.1', '159', '19M', '10,000+', 'Free', '0', 'Everyone', 'Art & Design', 'January 7, 2018', '1.0.0', '4.0.3 and up']\n",
      "\n",
      "\n",
      "['Coloring book moana', 'ART_AND_DESIGN', '3.9', '967', '14M', '500,000+', 'Free', '0', 'Everyone', 'Art & Design;Pretend Play', 'January 15, 2018', '2.0.0', '4.0.3 and up']\n",
      "\n",
      "\n",
      "['U Launcher Lite – FREE Live Cool Themes, Hide Apps', 'ART_AND_DESIGN', '4.7', '87510', '8.7M', '5,000,000+', 'Free', '0', 'Everyone', 'Art & Design', 'August 1, 2018', '1.2.4', '4.0.3 and up']\n",
      "\n",
      "\n",
      "['Sketch - Draw & Paint', 'ART_AND_DESIGN', '4.5', '215644', '25M', '50,000,000+', 'Free', '0', 'Teen', 'Art & Design', 'June 8, 2018', 'Varies with device', '4.2 and up']\n",
      "\n",
      "\n",
      "['Pixel Draw - Number Art Coloring Book', 'ART_AND_DESIGN', '4.3', '967', '2.8M', '100,000+', 'Free', '0', 'Everyone', 'Art & Design;Creativity', 'June 20, 2018', '1.1', '4.4 and up']\n",
      "\n",
      "\n"
     ]
    }
   ],
   "source": [
    "print('This is a glimpse of the Apple AppStore dataset: \\n')\n",
    "explore_data(applestore, 0,6)\n",
    "print('\\n\\n\\n')\n",
    "print('This is a glimpse of the Google PlayStore dataset: \\n')\n",
    "explore_data(playstore,0,6)"
   ]
  },
  {
   "cell_type": "markdown",
   "metadata": {},
   "source": [
    "There seems to be an error in one of the entries in the PlayStore dataset as shown in the discussion page [here](https://www.kaggle.com/lava18/google-play-store-apps/discussion/81460). <br>\n",
    "One possible solution is correct the data. But what I have done is simply deleted that entry.<br>\n",
    "Make a note that the below  cell should not be run more than once as it can lead to deletetion of multiple rows, which is undesirable."
   ]
  },
  {
   "cell_type": "code",
   "execution_count": 4,
   "metadata": {},
   "outputs": [
    {
     "name": "stdout",
     "output_type": "stream",
     "text": [
      "['App', 'Category', 'Rating', 'Reviews', 'Size', 'Installs', 'Type', 'Price', 'Content Rating', 'Genres', 'Last Updated', 'Current Ver', 'Android Ver']\n",
      "\n",
      "\n",
      "['Life Made WI-Fi Touchscreen Photo Frame', '1.9', '19', '3.0M', '1,000+', 'Free', '0', 'Everyone', '', 'February 11, 2018', '1.0.19', '4.0 and up']\n",
      "\n",
      " Here we see that the app has a rating of 19, which is not possible.\n",
      "There is an error in the index 10472 of the PlayStore dataset and so we delete that entry.\n"
     ]
    }
   ],
   "source": [
    "print(playstore_header)\n",
    "print('\\n')\n",
    "print(playstore_apps[10472])\n",
    "print('\\n Here we see that the app has a rating of 19, which is not possible.')\n",
    "print('There is an error in the index 10472 of the PlayStore dataset and so we delete that entry.')\n"
   ]
  },
  {
   "cell_type": "code",
   "execution_count": 5,
   "metadata": {},
   "outputs": [
    {
     "name": "stdout",
     "output_type": "stream",
     "text": [
      "The length of the dataset before deletion is :  10841\n",
      "The length of the dataset afterr deletion is :  10840 , as expected.\n",
      "The new entry at index 10472 is now- \n",
      "\n",
      "['osmino Wi-Fi: free WiFi', 'TOOLS', '4.2', '134203', '4.1M', '10,000,000+', 'Free', '0', 'Everyone', 'Tools', 'August 7, 2018', '6.06.14', '4.4 and up']\n"
     ]
    }
   ],
   "source": [
    "print(\"The length of the dataset before deletion is : \",len(playstore_apps))\n",
    "del playstore_apps[10472]\n",
    "print(\"The length of the dataset afterr deletion is : \", len(playstore_apps), \", as expected.\")\n",
    "print(\"The new entry at index 10472 is now- \\n\")\n",
    "print(playstore_apps[10472])"
   ]
  },
  {
   "cell_type": "markdown",
   "metadata": {},
   "source": [
    "# Finding and Deleting duplicate entries\n",
    "\n",
    "On inspection of the dataset, it can be seen that there are a lot of duplicate entries. <br>\n",
    "For e.g, Instagram has 4 entries as shown below - "
   ]
  },
  {
   "cell_type": "code",
   "execution_count": 6,
   "metadata": {},
   "outputs": [
    {
     "name": "stdout",
     "output_type": "stream",
     "text": [
      "['Instagram', 'SOCIAL', '4.5', '66577313', 'Varies with device', '1,000,000,000+', 'Free', '0', 'Teen', 'Social', 'July 31, 2018', 'Varies with device', 'Varies with device']\n",
      "['Instagram', 'SOCIAL', '4.5', '66577446', 'Varies with device', '1,000,000,000+', 'Free', '0', 'Teen', 'Social', 'July 31, 2018', 'Varies with device', 'Varies with device']\n",
      "['Instagram', 'SOCIAL', '4.5', '66577313', 'Varies with device', '1,000,000,000+', 'Free', '0', 'Teen', 'Social', 'July 31, 2018', 'Varies with device', 'Varies with device']\n",
      "['Instagram', 'SOCIAL', '4.5', '66509917', 'Varies with device', '1,000,000,000+', 'Free', '0', 'Teen', 'Social', 'July 31, 2018', 'Varies with device', 'Varies with device']\n",
      "\n",
      " Here we see that Instagram has 4 entries in the dataset\n"
     ]
    }
   ],
   "source": [
    "count=0\n",
    "for app in playstore_apps:\n",
    "    if app[0]==\"Instagram\":\n",
    "        print(app)\n",
    "        count+=1\n",
    "print(\"\\n Here we see that Instagram has\", count,\"entries in the dataset\")"
   ]
  },
  {
   "cell_type": "markdown",
   "metadata": {},
   "source": [
    "Similarly, we can find many other instances of duplicate entries."
   ]
  },
  {
   "cell_type": "code",
   "execution_count": 7,
   "metadata": {},
   "outputs": [
    {
     "name": "stdout",
     "output_type": "stream",
     "text": [
      "\n",
      " There are 1181 duplicate entries in the dataset.\n",
      "Hence the actual length of the PlayStore dataset is 9659\n"
     ]
    }
   ],
   "source": [
    "unique_apps=[]\n",
    "duplicate_apps=[]\n",
    "for app in playstore_apps:\n",
    "    if app[0] in unique_apps:         #the index 0 corresponds to the name of the app\n",
    "        duplicate_apps.append(app[0])\n",
    "    else:\n",
    "        unique_apps.append(app[0])\n",
    "print(\"\\n There are\", len(duplicate_apps), \"duplicate entries in the dataset.\")\n",
    "print(\"Hence the actual length of the PlayStore dataset is\",len(playstore_apps)-len(duplicate_apps))"
   ]
  },
  {
   "cell_type": "markdown",
   "metadata": {},
   "source": [
    "## Removing duplicates\n",
    "We will not randomly be removing all duplicates. <br>\n",
    "As the above cell shows, all the 4 \"Instagram\" instances have different number of reviews (index number 3). The one with the most number of reviews can be safely assumed to be the latest entry to the dataset and hence we will keep  that one.\n",
    "So, we need to separate all sets  of duplicates and keep only those which have the most number of reviews. <br> <br>\n",
    "The approach we have chosen is - <br>\n",
    "1. An empty dictionary `reviews_max` is created, which is used to store the max value of number of reviews corresponding to each app. <br>\n",
    "2. Iterating through every app in the PlayStore app list, assign `name` and `n_reviews` and check if `name` is already present in `reviews_max`, and if `n_reviews` is greater than the number of reviews in the dictionary entry. If these two conditions are satisfied then replace the value of `name` in the dictionary with `n_reviews`. <br>\n",
    "3. If `name` is not in `reviews_max`, then create a dictionay entry with key = `name` and value = `n_reviews`. <br>\n",
    "\n",
    "Once this is done, we can see that the number of elements in the dictionary is 9659, as expected. <br>\n",
    "Now we can move on to creating a list of apps with the duplicates removed.\n",
    "<br>\n",
    "1. Create two empty lists, one to store the app details and one to store only the names. <br>\n",
    "2. Iterating through the PlayStore app list, check if each app is not present in the names-only list and if that entry contains the maximum number of reviews for that app by using the dictionary entry. If these are satisfied then append the whole row into the other list. Also append the name into the names list, as it helps keep track of the app list."
   ]
  },
  {
   "cell_type": "code",
   "execution_count": 8,
   "metadata": {},
   "outputs": [
    {
     "name": "stdout",
     "output_type": "stream",
     "text": [
      "The length of the new andoird_clean list is 9659 , as expected.\n"
     ]
    }
   ],
   "source": [
    "reviews_max={}\n",
    "for app in playstore_apps:\n",
    "    name=app[0]\n",
    "    n_reviews=float(app[3])\n",
    "    if name in reviews_max and n_reviews>reviews_max[name]:\n",
    "        reviews_max[name]=n_reviews\n",
    "    if name not in reviews_max:\n",
    "        reviews_max[name]=n_reviews\n",
    "\n",
    "android_clean=[]\n",
    "already_added=[]           #names only\n",
    "for app in playstore_apps:\n",
    "    name=app[0]\n",
    "    n_reviews=float(app[3])\n",
    "    if n_reviews== reviews_max[name] and name not in already_added:\n",
    "        android_clean.append(app)\n",
    "        already_added.append(name)\n",
    "\n",
    "print(\"The length of the new andoird_clean list is\",len(android_clean),\", as expected.\")\n",
    "\n",
    "        "
   ]
  },
  {
   "cell_type": "markdown",
   "metadata": {},
   "source": [
    "Checking the AppleStrore dataset reveals that no duplicates are present."
   ]
  },
  {
   "cell_type": "code",
   "execution_count": 9,
   "metadata": {},
   "outputs": [
    {
     "name": "stdout",
     "output_type": "stream",
     "text": [
      "\n",
      " There are 0 duplicate entries in the dataset.\n"
     ]
    }
   ],
   "source": [
    "unique_apps=[]\n",
    "duplicate_apps=[]\n",
    "for app in applestore_apps:\n",
    "    if app[0] in unique_apps:         #the index 0 corresponds to the name of the app\n",
    "        duplicate_apps.append(app[0])\n",
    "    else:\n",
    "        unique_apps.append(app[0])\n",
    "print(\"\\n There are\", len(duplicate_apps), \"duplicate entries in the dataset.\")"
   ]
  },
  {
   "cell_type": "markdown",
   "metadata": {},
   "source": [
    "Hence we can assign appropriate names to the two proper lists."
   ]
  },
  {
   "cell_type": "code",
   "execution_count": 10,
   "metadata": {},
   "outputs": [],
   "source": [
    "android=android_clean\n",
    "ios=applestore_apps"
   ]
  },
  {
   "cell_type": "markdown",
   "metadata": {},
   "source": [
    "Henceforth, we will use the above lists for accessing app data."
   ]
  },
  {
   "cell_type": "markdown",
   "metadata": {},
   "source": [
    "## Checking the names of apps\n",
    "This project is targeted towards an English audience and so we would like the dataset to have apps with English names. But going through the datasets, we can see that there are several apps with names conatining non-English charecters."
   ]
  },
  {
   "cell_type": "code",
   "execution_count": 11,
   "metadata": {},
   "outputs": [
    {
     "name": "stdout",
     "output_type": "stream",
     "text": [
      "爱奇艺PPS -《欢乐颂2》电视剧热播\n",
      "【脱出ゲーム】絶対に最後までプレイしないで 〜謎解き＆ブロックパズル〜\n",
      "中国語 AQリスニング\n",
      "لعبة تقدر تربح DZ\n"
     ]
    }
   ],
   "source": [
    "print(applestore_apps[813][1])\n",
    "print(applestore_apps[6731][1])\n",
    "\n",
    "print(android_clean[4412][0])\n",
    "print(android_clean[7940][0])"
   ]
  },
  {
   "cell_type": "markdown",
   "metadata": {},
   "source": [
    "We do not need these apps in our dataset as they will yeild unwanted results. <br>\n",
    "To remove these from the dataset, we first need to find ways to detect a non-English name. For this we use the in-built `ord()` function which returns the ASCII number for the corresponding character. All of our English alphabet and commonly used symbols and numbers all have an ASCII number less than 127. So, using this criteria we can find out if the name of each app has a non-English criteria or not. <br>\n",
    "We write a function which returns `False` if the string provided as argument has non-English characters, and returns `True` otherwise. Using this function we can separate the non-English oriented apps from the English ones."
   ]
  },
  {
   "cell_type": "code",
   "execution_count": 12,
   "metadata": {},
   "outputs": [
    {
     "name": "stdout",
     "output_type": "stream",
     "text": [
      "True\n",
      "False\n",
      "False\n",
      "False\n"
     ]
    }
   ],
   "source": [
    "def is_English(string):\n",
    "    for char in string:\n",
    "        if ord(char)>127:\n",
    "            return False\n",
    "    return True\n",
    "\n",
    "print(is_English(\"Facebook\"))\n",
    "print(is_English(\"爱奇艺PPS\"))\n",
    "print(is_English('Docs To Go™ Free Office Suite'))\n",
    "print(is_English('Instachat 😜'))"
   ]
  },
  {
   "cell_type": "markdown",
   "metadata": {},
   "source": [
    "We see that our functions works as expected for `\"Facebook\"` and `\"爱奇艺PPS\"`, but it returns `False` for `'Docs To Go™ Free Office Suite'` and `\"Instachat 😜` eventhough they contain English characters. This is so because these names contain some special characters like ™ and 😜 which have ASCII numbers more than 127. <br>\n",
    "So we need to be careful while filtering through the app list using this function as we might end up loosig a lot of data because of these special characters. To avoid this we set a limit of 3 non-English characters to be present in an apps name for it to be classified as an English oriented app. So we have to modify the `is_English` function."
   ]
  },
  {
   "cell_type": "code",
   "execution_count": 13,
   "metadata": {},
   "outputs": [
    {
     "name": "stdout",
     "output_type": "stream",
     "text": [
      "True\n",
      "True\n"
     ]
    }
   ],
   "source": [
    "def is_English(string):\n",
    "    count=0\n",
    "    for char in string:\n",
    "        if ord(char)>127:\n",
    "            count+=1\n",
    "        if count>3:\n",
    "            return False\n",
    "    return True\n",
    "print(is_English('Instachat 😜'))\n",
    "print(is_English('Docs To Go™ Free Office Suite'))"
   ]
  },
  {
   "cell_type": "markdown",
   "metadata": {},
   "source": [
    "Now we loop through each dataset and add the English apps to another separate list."
   ]
  },
  {
   "cell_type": "code",
   "execution_count": 14,
   "metadata": {},
   "outputs": [
    {
     "name": "stdout",
     "output_type": "stream",
     "text": [
      "['U Launcher Lite – FREE Live Cool Themes, Hide Apps', 'ART_AND_DESIGN', '4.7', '87510', '8.7M', '5,000,000+', 'Free', '0', 'Everyone', 'Art & Design', 'August 1, 2018', '1.2.4', '4.0.3 and up']\n",
      "\n",
      "\n",
      "['Sketch - Draw & Paint', 'ART_AND_DESIGN', '4.5', '215644', '25M', '50,000,000+', 'Free', '0', 'Teen', 'Art & Design', 'June 8, 2018', 'Varies with device', '4.2 and up']\n",
      "\n",
      "\n",
      "['Pixel Draw - Number Art Coloring Book', 'ART_AND_DESIGN', '4.3', '967', '2.8M', '100,000+', 'Free', '0', 'Everyone', 'Art & Design;Creativity', 'June 20, 2018', '1.1', '4.4 and up']\n",
      "\n",
      "\n",
      "The number of rows is:  9614\n",
      "The number of columns is  13\n",
      "\n",
      "\n",
      "['389801252', 'Instagram', '113954816', 'USD', '0.0', '2161558', '1289', '4.5', '4.0', '10.23', '12+', 'Photo & Video', '37', '0', '29', '1']\n",
      "\n",
      "\n",
      "['529479190', 'Clash of Clans', '116476928', 'USD', '0.0', '2130805', '579', '4.5', '4.5', '9.24.12', '9+', 'Games', '38', '5', '18', '1']\n",
      "\n",
      "\n",
      "['420009108', 'Temple Run', '65921024', 'USD', '0.0', '1724546', '3842', '4.5', '4.0', '1.6.2', '9+', 'Games', '40', '5', '1', '1']\n",
      "\n",
      "\n",
      "The number of rows is:  6183\n",
      "The number of columns is  16\n"
     ]
    }
   ],
   "source": [
    "android_english=[]\n",
    "apple_english=[]\n",
    "\n",
    "for app in android:                             #name is index 0 here\n",
    "    if is_English(app[0])==True:\n",
    "        android_english.append(app)\n",
    "\n",
    "for app in ios:                                 #name is index 1 here\n",
    "    if is_English(app[1])==True:\n",
    "        apple_english.append(app)\n",
    "\n",
    "explore_data(android_english,1,4,True)\n",
    "print('\\n')\n",
    "explore_data(apple_english,1,4,True)"
   ]
  },
  {
   "cell_type": "markdown",
   "metadata": {},
   "source": [
    "## Isolating free apps\n",
    "The last stage in preparing our dataset is to isolate the free apps into a separate list. <br>\n",
    "We do this because it is the free apps that we wish to target, which has ad-based revenue.\n"
   ]
  },
  {
   "cell_type": "code",
   "execution_count": 15,
   "metadata": {},
   "outputs": [
    {
     "name": "stdout",
     "output_type": "stream",
     "text": [
      "['Photo Editor & Candy Camera & Grid & ScrapBook', 'ART_AND_DESIGN', '4.1', '159', '19M', '10,000+', 'Free', '0', 'Everyone', 'Art & Design', 'January 7, 2018', '1.0.0', '4.0.3 and up']\n",
      "\n",
      "\n",
      "['U Launcher Lite – FREE Live Cool Themes, Hide Apps', 'ART_AND_DESIGN', '4.7', '87510', '8.7M', '5,000,000+', 'Free', '0', 'Everyone', 'Art & Design', 'August 1, 2018', '1.2.4', '4.0.3 and up']\n",
      "\n",
      "\n",
      "['Sketch - Draw & Paint', 'ART_AND_DESIGN', '4.5', '215644', '25M', '50,000,000+', 'Free', '0', 'Teen', 'Art & Design', 'June 8, 2018', 'Varies with device', '4.2 and up']\n",
      "\n",
      "\n",
      "['Pixel Draw - Number Art Coloring Book', 'ART_AND_DESIGN', '4.3', '967', '2.8M', '100,000+', 'Free', '0', 'Everyone', 'Art & Design;Creativity', 'June 20, 2018', '1.1', '4.4 and up']\n",
      "\n",
      "\n",
      "The number of rows is:  8863\n",
      "The number of columns is  13\n",
      "\n",
      "\n",
      "['284882215', 'Facebook', '389879808', 'USD', '0.0', '2974676', '212', '3.5', '3.5', '95.0', '4+', 'Social Networking', '37', '1', '29', '1']\n",
      "\n",
      "\n",
      "['389801252', 'Instagram', '113954816', 'USD', '0.0', '2161558', '1289', '4.5', '4.0', '10.23', '12+', 'Photo & Video', '37', '0', '29', '1']\n",
      "\n",
      "\n",
      "['529479190', 'Clash of Clans', '116476928', 'USD', '0.0', '2130805', '579', '4.5', '4.5', '9.24.12', '9+', 'Games', '38', '5', '18', '1']\n",
      "\n",
      "\n",
      "['420009108', 'Temple Run', '65921024', 'USD', '0.0', '1724546', '3842', '4.5', '4.0', '1.6.2', '9+', 'Games', '40', '5', '1', '1']\n",
      "\n",
      "\n",
      "The number of rows is:  3222\n",
      "The number of columns is  16\n"
     ]
    }
   ],
   "source": [
    "android_final=[]\n",
    "apple_final=[]\n",
    "\n",
    "for app in android_english:\n",
    "    if app[6]=='Free':\n",
    "        android_final.append(app)\n",
    "\n",
    "for app in apple_english:\n",
    "    if float(app[4])==0.0:\n",
    "        apple_final.append(app)\n",
    "\n",
    "explore_data(android_final,0,4,True)\n",
    "print('\\n')\n",
    "explore_data(apple_final,0,4,True)"
   ]
  },
  {
   "cell_type": "markdown",
   "metadata": {},
   "source": [
    "# Data Analysis\n",
    "So far we have cleanded by the data in the dataset by-\n",
    "- Removing duplicate entries\n",
    "- Removing Non-English apps\n",
    "- Isolating the free apps\n",
    "\n",
    "Now we can use this dataset to perform our required analysis. <br>\n",
    "The main aim here is to determine the kind of apps that are likely to attract more customers because ad-based revenue depends largely on the number of people using the app. <br>\n",
    "A well accepted strategy to develop an app idea is-\n",
    "1. Develop a minimal version of the app and put it on the PlayStore.\n",
    "2. If the minimal version shows good response, develop  it further.\n",
    "3. If the app shows profitability after around 6 months, make an iOS version and put it up on the Apple AppStore.\n",
    "<br>\n",
    "Since our end goal is to put up the app in both Google and Apple stores, we need to find app profiles that can be successfull in both markets. <br><br>\n",
    "To begin our analysis, we need to build frequency tables for various columns, and do this we require the use of a function."
   ]
  },
  {
   "cell_type": "code",
   "execution_count": 16,
   "metadata": {},
   "outputs": [],
   "source": [
    "def freq_table(dataset,index):\n",
    "    dictionary={}\n",
    "    sum=0\n",
    "    for app in dataset:\n",
    "        if app[index] in dictionary:\n",
    "            dictionary[app[index]]+=1\n",
    "            sum+=1\n",
    "        else:\n",
    "            dictionary[app[index]]=1\n",
    "            sum+=1\n",
    "    for app in dictionary:\n",
    "        dictionary[app]=(dictionary[app]/sum)*100\n",
    "    return dictionary        "
   ]
  },
  {
   "cell_type": "markdown",
   "metadata": {},
   "source": [
    "Now we define a function to display the values of a frequecny table in descending order. The function takes two parameters, `dataset` and `index` and displays the corresponding frequency table."
   ]
  },
  {
   "cell_type": "code",
   "execution_count": 17,
   "metadata": {},
   "outputs": [],
   "source": [
    "def display_table(dataset,index):\n",
    "    table=freq_table(dataset,index)\n",
    "    table_display=[]\n",
    "    for key in table:\n",
    "        tuple_form=(table[key],key)\n",
    "        table_display.append(tuple_form)\n",
    "    sorted_table=sorted(table_display,reverse=True)\n",
    "    for value in sorted_table:\n",
    "        print(value[1],\":\",value[0])"
   ]
  },
  {
   "cell_type": "markdown",
   "metadata": {},
   "source": [
    "Now we use this function to analyse the two datasets. <br>\n",
    "We begin by looking into the Apple app list. The header row reveals that the index number 11 has information about each apps genre, so we use the `display_table()` function and look at how varoius apps are distributed across different genres."
   ]
  },
  {
   "cell_type": "code",
   "execution_count": 18,
   "metadata": {},
   "outputs": [
    {
     "name": "stdout",
     "output_type": "stream",
     "text": [
      "Games : 58.16263190564867\n",
      "Entertainment : 7.883302296710118\n",
      "Photo & Video : 4.9658597144630665\n",
      "Education : 3.662321539416512\n",
      "Social Networking : 3.2898820608317814\n",
      "Shopping : 2.60707635009311\n",
      "Utilities : 2.5139664804469275\n",
      "Sports : 2.1415270018621975\n",
      "Music : 2.0484171322160147\n",
      "Health & Fitness : 2.0173805090006205\n",
      "Productivity : 1.7380509000620732\n",
      "Lifestyle : 1.5828677839851024\n",
      "News : 1.3345747982619491\n",
      "Travel : 1.2414649286157666\n",
      "Finance : 1.1173184357541899\n",
      "Weather : 0.8690254500310366\n",
      "Food & Drink : 0.8069522036002483\n",
      "Reference : 0.5586592178770949\n",
      "Business : 0.5276225946617008\n",
      "Book : 0.4345127250155183\n",
      "Navigation : 0.186219739292365\n",
      "Medical : 0.186219739292365\n",
      "Catalogs : 0.12414649286157665\n"
     ]
    }
   ],
   "source": [
    "display_table(apple_final,11)"
   ]
  },
  {
   "cell_type": "markdown",
   "metadata": {},
   "source": [
    "In the AppStore, 58% of the apps fall under `Games`. This is followed by an 8% in the `Entertainment` section. Following this is the category `Photo & Video` with a 5% share. <br>\n",
    "The genreal observation is that most apps in the Apple AppStore are those used fro fun (Entertainment, Games, Social Media, etc). Apps for education, shopping, business and other such applications are rare.\n",
    "<br>\n",
    "<br>\n",
    "We continue by looking into the Genres and Category columns in the PlayStore dataset."
   ]
  },
  {
   "cell_type": "code",
   "execution_count": 19,
   "metadata": {},
   "outputs": [
    {
     "name": "stdout",
     "output_type": "stream",
     "text": [
      "FAMILY : 18.898792733837304\n",
      "GAME : 9.725826469592688\n",
      "TOOLS : 8.462146000225657\n",
      "BUSINESS : 4.592124562789123\n",
      "LIFESTYLE : 3.9038700214374367\n",
      "PRODUCTIVITY : 3.8925871601038025\n",
      "FINANCE : 3.7007785174320205\n",
      "MEDICAL : 3.5315355974275078\n",
      "SPORTS : 3.396141261423897\n",
      "PERSONALIZATION : 3.317161232088458\n",
      "COMMUNICATION : 3.2381812027530184\n",
      "HEALTH_AND_FITNESS : 3.0802211440821394\n",
      "PHOTOGRAPHY : 2.944826808078529\n",
      "NEWS_AND_MAGAZINES : 2.798149610741284\n",
      "SOCIAL : 2.6627552747376737\n",
      "TRAVEL_AND_LOCAL : 2.335552296062281\n",
      "SHOPPING : 2.245289405393208\n",
      "BOOKS_AND_REFERENCE : 2.1437436533904997\n",
      "DATING : 1.8616721200496444\n",
      "VIDEO_PLAYERS : 1.7939749520478394\n",
      "MAPS_AND_NAVIGATION : 1.399074805370642\n",
      "FOOD_AND_DRINK : 1.241114746699763\n",
      "EDUCATION : 1.1621347173643235\n",
      "ENTERTAINMENT : 0.9590432133589079\n",
      "LIBRARIES_AND_DEMO : 0.9364774906916393\n",
      "AUTO_AND_VEHICLES : 0.9251946293580051\n",
      "HOUSE_AND_HOME : 0.8236488773552973\n",
      "WEATHER : 0.8010831546880289\n",
      "EVENTS : 0.7108202640189552\n",
      "PARENTING : 0.6544059573507841\n",
      "ART_AND_DESIGN : 0.6431230960171499\n",
      "COMICS : 0.6205573733498815\n",
      "BEAUTY : 0.5979916506826132\n"
     ]
    }
   ],
   "source": [
    "display_table(android_final,1)"
   ]
  },
  {
   "cell_type": "markdown",
   "metadata": {},
   "source": [
    "The observation here is that a majority of the apps are Family oriented, followed by Games in second place. But looking into the Family section on the PlayStore we see that the  family categpry is just filled with games for children. <br>\n",
    "Most of the apps in the PlayStore are non-game, i.e., they are all practical use apps (30-70 share for game-nongame)"
   ]
  },
  {
   "cell_type": "code",
   "execution_count": 20,
   "metadata": {},
   "outputs": [
    {
     "name": "stdout",
     "output_type": "stream",
     "text": [
      "Tools : 8.450863138892023\n",
      "Entertainment : 6.070179397495204\n",
      "Education : 5.348076272142616\n",
      "Business : 4.592124562789123\n",
      "Productivity : 3.8925871601038025\n",
      "Lifestyle : 3.8925871601038025\n",
      "Finance : 3.7007785174320205\n",
      "Medical : 3.5315355974275078\n",
      "Sports : 3.463838429425702\n",
      "Personalization : 3.317161232088458\n",
      "Communication : 3.2381812027530184\n",
      "Action : 3.102786866749408\n",
      "Health & Fitness : 3.0802211440821394\n",
      "Photography : 2.944826808078529\n",
      "News & Magazines : 2.798149610741284\n",
      "Social : 2.6627552747376737\n",
      "Travel & Local : 2.324269434728647\n",
      "Shopping : 2.245289405393208\n",
      "Books & Reference : 2.1437436533904997\n",
      "Simulation : 2.042197901387792\n",
      "Dating : 1.8616721200496444\n",
      "Arcade : 1.8503892587160102\n",
      "Video Players & Editors : 1.771409229380571\n",
      "Casual : 1.7601263680469368\n",
      "Maps & Navigation : 1.399074805370642\n",
      "Food & Drink : 1.241114746699763\n",
      "Puzzle : 1.128286133363421\n",
      "Racing : 0.9928917973598104\n",
      "Role Playing : 0.9364774906916393\n",
      "Libraries & Demo : 0.9364774906916393\n",
      "Auto & Vehicles : 0.9251946293580051\n",
      "Strategy : 0.9026289066907368\n",
      "House & Home : 0.8236488773552973\n",
      "Weather : 0.8010831546880289\n",
      "Events : 0.7108202640189552\n",
      "Adventure : 0.6769716800180525\n",
      "Comics : 0.6092745120162473\n",
      "Beauty : 0.5979916506826132\n",
      "Art & Design : 0.5979916506826132\n",
      "Parenting : 0.4964458986799052\n",
      "Card : 0.4513144533453684\n",
      "Casino : 0.42874873067809993\n",
      "Trivia : 0.4174658693444658\n",
      "Educational;Education : 0.3949001466771973\n",
      "Board : 0.38361728534356315\n",
      "Educational : 0.37233442400992894\n",
      "Education;Education : 0.33848584000902626\n",
      "Word : 0.25950581067358686\n",
      "Casual;Pretend Play : 0.2369400880063184\n",
      "Music : 0.20309150400541578\n",
      "Racing;Action & Adventure : 0.16924292000451313\n",
      "Puzzle;Brain Games : 0.16924292000451313\n",
      "Entertainment;Music & Video : 0.16924292000451313\n",
      "Casual;Brain Games : 0.1353943360036105\n",
      "Casual;Action & Adventure : 0.1353943360036105\n",
      "Arcade;Action & Adventure : 0.1241114746699763\n",
      "Action;Action & Adventure : 0.10154575200270789\n",
      "Educational;Pretend Play : 0.09026289066907367\n",
      "Simulation;Action & Adventure : 0.07898002933543948\n",
      "Parenting;Education : 0.07898002933543948\n",
      "Entertainment;Brain Games : 0.07898002933543948\n",
      "Board;Brain Games : 0.07898002933543948\n",
      "Parenting;Music & Video : 0.06769716800180525\n",
      "Educational;Brain Games : 0.06769716800180525\n",
      "Casual;Creativity : 0.06769716800180525\n",
      "Art & Design;Creativity : 0.06769716800180525\n",
      "Education;Pretend Play : 0.05641430666817105\n",
      "Role Playing;Pretend Play : 0.045131445334536835\n",
      "Education;Creativity : 0.045131445334536835\n",
      "Role Playing;Action & Adventure : 0.033848584000902626\n",
      "Puzzle;Action & Adventure : 0.033848584000902626\n",
      "Entertainment;Creativity : 0.033848584000902626\n",
      "Entertainment;Action & Adventure : 0.033848584000902626\n",
      "Educational;Creativity : 0.033848584000902626\n",
      "Educational;Action & Adventure : 0.033848584000902626\n",
      "Education;Music & Video : 0.033848584000902626\n",
      "Education;Brain Games : 0.033848584000902626\n",
      "Education;Action & Adventure : 0.033848584000902626\n",
      "Adventure;Action & Adventure : 0.033848584000902626\n",
      "Video Players & Editors;Music & Video : 0.022565722667268417\n",
      "Sports;Action & Adventure : 0.022565722667268417\n",
      "Simulation;Pretend Play : 0.022565722667268417\n",
      "Puzzle;Creativity : 0.022565722667268417\n",
      "Music;Music & Video : 0.022565722667268417\n",
      "Entertainment;Pretend Play : 0.022565722667268417\n",
      "Casual;Education : 0.022565722667268417\n",
      "Board;Action & Adventure : 0.022565722667268417\n",
      "Video Players & Editors;Creativity : 0.011282861333634209\n",
      "Trivia;Education : 0.011282861333634209\n",
      "Travel & Local;Action & Adventure : 0.011282861333634209\n",
      "Tools;Education : 0.011282861333634209\n",
      "Strategy;Education : 0.011282861333634209\n",
      "Strategy;Creativity : 0.011282861333634209\n",
      "Strategy;Action & Adventure : 0.011282861333634209\n",
      "Simulation;Education : 0.011282861333634209\n",
      "Role Playing;Brain Games : 0.011282861333634209\n",
      "Racing;Pretend Play : 0.011282861333634209\n",
      "Puzzle;Education : 0.011282861333634209\n",
      "Parenting;Brain Games : 0.011282861333634209\n",
      "Music & Audio;Music & Video : 0.011282861333634209\n",
      "Lifestyle;Pretend Play : 0.011282861333634209\n",
      "Lifestyle;Education : 0.011282861333634209\n",
      "Health & Fitness;Education : 0.011282861333634209\n",
      "Health & Fitness;Action & Adventure : 0.011282861333634209\n",
      "Entertainment;Education : 0.011282861333634209\n",
      "Communication;Creativity : 0.011282861333634209\n",
      "Comics;Creativity : 0.011282861333634209\n",
      "Casual;Music & Video : 0.011282861333634209\n",
      "Card;Action & Adventure : 0.011282861333634209\n",
      "Books & Reference;Education : 0.011282861333634209\n",
      "Art & Design;Pretend Play : 0.011282861333634209\n",
      "Art & Design;Action & Adventure : 0.011282861333634209\n",
      "Arcade;Pretend Play : 0.011282861333634209\n",
      "Adventure;Education : 0.011282861333634209\n"
     ]
    }
   ],
   "source": [
    "display_table(android_final,9)"
   ]
  },
  {
   "cell_type": "markdown",
   "metadata": {},
   "source": [
    "The Category column is more detailed compared to the Genre column. There is more diversification among apps belonging to the same Genre as well. With a good 8.5%, Tools takes the top place for the most popular Category of apps. Entertainment apps come next with a 6%, followed by Educational apps at a 5.3%.\n",
    "<br><br>\n",
    "After looking at both these datasets we can say that the AppStore is dominated by apps made for fun while the PlayStore is more evenly distributed among fun and practical apps.\n",
    "<br><br>\n",
    "## Average installs in the AppStore\n",
    "To get a better idea of which genre is the most popular, we need to calculate the average number of installs for each of the dataset. That can be done by using the `Installs` column in the adnroid dataset.<br>\n",
    "The Apple dataset doesn't have a direct column for number of installs but we can use the number of reviews as a good alternative, as it is a similar measure.\\"
   ]
  },
  {
   "cell_type": "code",
   "execution_count": 21,
   "metadata": {},
   "outputs": [
    {
     "name": "stdout",
     "output_type": "stream",
     "text": [
      "Social Networking : 71548.34905660378\n",
      "Photo & Video : 28441.54375\n",
      "Games : 22788.6696905016\n",
      "Music : 57326.530303030304\n",
      "Reference : 74942.11111111111\n",
      "Health & Fitness : 23298.015384615384\n",
      "Weather : 52279.892857142855\n",
      "Utilities : 18684.456790123455\n",
      "Travel : 28243.8\n",
      "Shopping : 26919.690476190477\n",
      "News : 21248.023255813954\n",
      "Navigation : 86090.33333333333\n",
      "Lifestyle : 16485.764705882353\n",
      "Entertainment : 14029.830708661417\n",
      "Food & Drink : 33333.92307692308\n",
      "Sports : 23008.898550724636\n",
      "Book : 39758.5\n",
      "Finance : 31467.944444444445\n",
      "Education : 7003.983050847458\n",
      "Productivity : 21028.410714285714\n",
      "Business : 7491.117647058823\n",
      "Catalogs : 4004.0\n",
      "Medical : 612.0\n"
     ]
    }
   ],
   "source": [
    "prime_genre_table=freq_table(apple_final,-5)\n",
    "for genre in prime_genre_table:\n",
    "    total=0\n",
    "    len_genre=0\n",
    "    for app in apple_final:\n",
    "        app_genre=app[11]\n",
    "        if genre==app_genre:\n",
    "            n_ratings=float(app[5])\n",
    "            total+=n_ratings\n",
    "            len_genre+=1\n",
    "    average_rating=total/len_genre\n",
    "    print(genre,\":\",average_rating)\n"
   ]
  },
  {
   "cell_type": "markdown",
   "metadata": {},
   "source": [
    "We observe that Social Networking apps have the highest average rating. This makes sense because apps like Facebook, Instagram and Snapchat have taken over the social media spcace. Almost every person with a smartphone has one or more of these apps on it. Let us look at the number of downloads for these apps individually to see why Social Media is the top category."
   ]
  },
  {
   "cell_type": "code",
   "execution_count": 22,
   "metadata": {},
   "outputs": [
    {
     "name": "stdout",
     "output_type": "stream",
     "text": [
      "For the Social Networking category: \n",
      "\n",
      "(number of ratings, App) \n",
      "\n",
      "('2974676', 'Facebook')\n",
      "\n",
      "\n",
      "('1061624', 'Pinterest')\n",
      "\n",
      "\n",
      "('373519', 'Skype for iPhone')\n",
      "\n",
      "\n",
      "The number of rows is:  106\n",
      "The number of columns is  2\n",
      "\n",
      " For the Utilities category: \n",
      "\n",
      "(number of ratings, App) \n",
      "\n",
      "('479440', 'Google – Search made just for mobile')\n",
      "\n",
      "\n",
      "('130450', 'Flashlight Ⓞ')\n",
      "\n",
      "\n",
      "('126948', 'My Verizon')\n",
      "\n",
      "\n",
      "The number of rows is:  81\n",
      "The number of columns is  2\n"
     ]
    }
   ],
   "source": [
    "social_media_apps=[]\n",
    "utilities_apps=[]\n",
    "\n",
    "print(\"For the Social Networking category: \\n\")\n",
    "for app in apple_final:\n",
    "    genre=app[11]\n",
    "    if genre==\"Social Networking\":\n",
    "        app_tuple=(app[5],app[1])\n",
    "        social_media_apps.append(app_tuple)\n",
    "social_media_apps_sorted=sorted(social_media_apps, reverse=True)\n",
    "print(\"(number of ratings, App) \\n\")\n",
    "explore_data(social_media_apps,0,3,True)\n",
    "\n",
    "print(\"\\n For the Utilities category: \\n\")\n",
    "for app in apple_final:\n",
    "    genre=app[11]\n",
    "    if genre==\"Utilities\":\n",
    "        app_tuple=(app[5],app[1])\n",
    "        utilities_apps.append(app_tuple)\n",
    "utilities_apps_sorted=sorted(utilities_apps, reverse=True)\n",
    "print(\"(number of ratings, App) \\n\")\n",
    "explore_data(utilities_apps,0,3,True)\n"
   ]
  },
  {
   "cell_type": "markdown",
   "metadata": {},
   "source": [
    "Facebook and Pinterest top the Social Media list with 1000000+ ratings for each. There is the possibility that these could have skewed the results in their favour, but there is no denying that Social Media is a very believable genre to be at the top in the Apple AppStore.\n",
    "But since we are looking to make a new app, going this way may not be helpful as people will not be willing to shift from one social media app to another that easily. So we need to look for a category which is dynamic, i.e. nobody should have to leave another app in this category to move into this one. The category that fits this profile can be `Games`, `Referece`, `Utilities` and other similar practically oriented categories. <br>\n",
    "Creating a new game is a nice way to go, but doesn't guarentee success. There are millions of games already on the AppStore and to make a new one stand out is not very easy. Creating an app for the `Reference` category, like a dictionary app or a Bible app can be done, but even here success is not a 100% sure. Getting people to switch from one dictionary to the other, eventhoiugh both contain the same words and meanings, is a Herculian task. The same goes for apps containing religious texts.\n",
    "The `Utilities` category, however, shows a lot of promise. A lot of experimenting can be done in this category, with respect ro code. The top Utilities on the AppStore are Google Search and A flashlight app. A compass, ruler, calculator, convertor, etc all fall in this category, the list is endless. Our best bet would be to create an app in this Category."
   ]
  },
  {
   "cell_type": "markdown",
   "metadata": {},
   "source": [
    "## Moving on to the Google PlayStore\n",
    "We saw that Social Media dominates the AppStore. Now we analyse the Google PlayStore data.This dataset has a column called `Installs` which gives the number of installs. But this data is not precise enough as it has values of the form 10000+, 1000+, etc. So we do not accurately know the number of installs for each app."
   ]
  },
  {
   "cell_type": "code",
   "execution_count": 23,
   "metadata": {},
   "outputs": [
    {
     "name": "stdout",
     "output_type": "stream",
     "text": [
      "imo free video calls and chat : 500,000,000+\n",
      "Viber Messenger : 500,000,000+\n",
      "UC Browser - Fast Download Private & Secure : 500,000,000+\n",
      "Twitter : 500,000,000+\n"
     ]
    }
   ],
   "source": [
    "n_install_android=[]\n",
    "for app in android_final:\n",
    "    installs=app[5]\n",
    "    name=app[0]\n",
    "    app_tuple=(installs,name)\n",
    "    n_install_android.append(app_tuple)\n",
    "n_install_android=sorted(n_install_android, reverse=True)\n",
    "for app_tuple in n_install_android[0:4]:\n",
    "    print(app_tuple[1],\":\",app_tuple[0])"
   ]
  },
  {
   "cell_type": "markdown",
   "metadata": {},
   "source": [
    "Since we have no other choice, we use the data that we have. We will be treating \"100,000+\" as 100,000, \"50,000+\" as 50,000 and so on. <br>\n",
    "To do this we need to modify the string \"100,000+\" into \"100,00\" by removing the extra symbols. The `.replace(old,new)` method can help us do this."
   ]
  },
  {
   "cell_type": "code",
   "execution_count": 24,
   "metadata": {},
   "outputs": [
    {
     "name": "stdout",
     "output_type": "stream",
     "text": [
      "Art & Design : 2122850.9433962265\n",
      "Art & Design;Creativity : 285000.0\n",
      "Auto & Vehicles : 647317.8170731707\n",
      "Beauty : 513151.88679245283\n",
      "Books & Reference : 8767811.894736841\n",
      "Business : 1712290.1474201474\n",
      "Comics : 831873.1481481482\n",
      "Comics;Creativity : 50000.0\n",
      "Communication : 38456119.167247385\n",
      "Dating : 854028.8303030303\n",
      "Education : 550185.4430379746\n",
      "Education;Creativity : 2875000.0\n",
      "Education;Education : 4759517.0\n",
      "Education;Pretend Play : 1800000.0\n",
      "Education;Brain Games : 5333333.333333333\n",
      "Entertainment : 5602792.775092937\n",
      "Entertainment;Brain Games : 3314285.714285714\n",
      "Entertainment;Creativity : 4000000.0\n",
      "Entertainment;Music & Video : 6413333.333333333\n",
      "Events : 253542.22222222222\n",
      "Finance : 1387692.475609756\n",
      "Food & Drink : 1924897.7363636363\n",
      "Health & Fitness : 4188821.9853479853\n",
      "House & Home : 1331540.5616438356\n",
      "Libraries & Demo : 638503.734939759\n",
      "Lifestyle : 1412998.3449275363\n",
      "Lifestyle;Pretend Play : 10000000.0\n",
      "Card : 3815462.5\n",
      "Arcade : 22888365.48780488\n",
      "Puzzle : 8302861.91\n",
      "Racing : 15910645.681818182\n",
      "Sports : 4596842.615635179\n",
      "Casual : 19569221.602564104\n",
      "Simulation : 3475484.08839779\n",
      "Adventure : 4922785.333333333\n",
      "Trivia : 3475712.7027027025\n",
      "Action : 12603588.872727273\n",
      "Word : 9094458.695652174\n",
      "Role Playing : 3965645.421686747\n",
      "Strategy : 11339901.3125\n",
      "Board : 4759209.117647059\n",
      "Music : 9445583.333333334\n",
      "Action;Action & Adventure : 5888888.888888889\n",
      "Casual;Brain Games : 1425916.6666666667\n",
      "Educational;Creativity : 2333333.3333333335\n",
      "Puzzle;Brain Games : 9280666.666666666\n",
      "Educational;Education : 1737143.142857143\n",
      "Casual;Pretend Play : 6957142.857142857\n",
      "Educational;Brain Games : 4433333.333333333\n",
      "Art & Design;Pretend Play : 500000.0\n",
      "Educational;Pretend Play : 9375000.0\n",
      "Entertainment;Education : 1000000.0\n",
      "Casual;Education : 1000000.0\n",
      "Casual;Creativity : 5333333.333333333\n",
      "Casual;Action & Adventure : 12916666.666666666\n",
      "Music;Music & Video : 5050000.0\n",
      "Arcade;Pretend Play : 1000000.0\n",
      "Adventure;Action & Adventure : 35333333.333333336\n",
      "Role Playing;Action & Adventure : 7000000.0\n",
      "Simulation;Pretend Play : 550000.0\n",
      "Puzzle;Creativity : 750000.0\n",
      "Simulation;Action & Adventure : 4857142.857142857\n",
      "Racing;Action & Adventure : 8816666.666666666\n",
      "Sports;Action & Adventure : 5050000.0\n",
      "Educational;Action & Adventure : 17016666.666666668\n",
      "Arcade;Action & Adventure : 3190909.1818181816\n",
      "Entertainment;Action & Adventure : 2333333.3333333335\n",
      "Art & Design;Action & Adventure : 100000.0\n",
      "Puzzle;Action & Adventure : 18366666.666666668\n",
      "Education;Action & Adventure : 1000000.0\n",
      "Strategy;Action & Adventure : 1000000.0\n",
      "Music & Audio;Music & Video : 500000.0\n",
      "Health & Fitness;Education : 100000.0\n",
      "Board;Action & Adventure : 3000000.0\n",
      "Board;Brain Games : 407142.85714285716\n",
      "Casual;Music & Video : 10000000.0\n",
      "Education;Music & Video : 2033333.3333333333\n",
      "Role Playing;Pretend Play : 5275000.0\n",
      "Entertainment;Pretend Play : 3000000.0\n",
      "Medical : 120550.61980830671\n",
      "Social : 23253652.127118643\n",
      "Shopping : 7036877.311557789\n",
      "Photography : 17840110.40229885\n",
      "Travel & Local : 14051476.145631067\n",
      "Travel & Local;Action & Adventure : 100000.0\n",
      "Tools : 10802461.246995995\n",
      "Tools;Education : 10000000.0\n",
      "Personalization : 5201482.6122448975\n",
      "Productivity : 16787331.344927534\n",
      "Parenting : 467977.5\n",
      "Parenting;Music & Video : 1118333.3333333333\n",
      "Parenting;Education : 452857.14285714284\n",
      "Parenting;Brain Games : 1000000.0\n",
      "Weather : 5074486.197183099\n",
      "Video Players & Editors : 24947335.796178345\n",
      "Video Players & Editors;Music & Video : 7500000.0\n",
      "Video Players & Editors;Creativity : 5000000.0\n",
      "News & Magazines : 9549178.467741935\n",
      "Maps & Navigation : 4056941.7741935486\n",
      "Health & Fitness;Action & Adventure : 1000000.0\n",
      "Educational : 411184.8484848485\n",
      "Casino : 3427910.5263157897\n",
      "Trivia;Education : 100.0\n",
      "Lifestyle;Education : 100000.0\n",
      "Card;Action & Adventure : 10000000.0\n",
      "Books & Reference;Education : 1000.0\n",
      "Simulation;Education : 500.0\n",
      "Puzzle;Education : 100000.0\n",
      "Adventure;Education : 10000000.0\n",
      "Role Playing;Brain Games : 10000000.0\n",
      "Strategy;Education : 500000.0\n",
      "Racing;Pretend Play : 1000000.0\n",
      "Communication;Creativity : 500000.0\n",
      "Strategy;Creativity : 1000000.0\n"
     ]
    }
   ],
   "source": [
    "android_category=freq_table(android_final,9)\n",
    "\n",
    "for category in android_category:\n",
    "    total=0\n",
    "    len_category=0\n",
    "    for app in android_final:\n",
    "        app_category=app[9]\n",
    "        if category==app_category:\n",
    "            n_install=app[5]\n",
    "            n_install=int((n_install.replace('+','').replace(',','')))\n",
    "            total+=n_install\n",
    "            len_category+=1\n",
    "    average_installs=total/len_category\n",
    "    print(category,\":\",average_installs)"
   ]
  },
  {
   "cell_type": "markdown",
   "metadata": {},
   "source": [
    "The Art & Design category is at the top with 2122850 as the average number of installs. The second place category is also Art & Design but with the added Creativity constraint."
   ]
  },
  {
   "cell_type": "code",
   "execution_count": 25,
   "metadata": {},
   "outputs": [
    {
     "name": "stdout",
     "output_type": "stream",
     "text": [
      "For the Art & Design category: \n",
      "\n",
      "('500,000+', 'Superheroes Wallpapers | 4K Backgrounds')\n",
      "\n",
      "\n",
      "('500,000+', 'Photo Designer - Write your name with shapes')\n",
      "\n",
      "\n",
      "('500,000+', 'How To Color Disney Princess - Coloring Pages')\n",
      "\n",
      "\n",
      "\n",
      "\n",
      "For the Art & Design; Creativity category: \n",
      "\n",
      "('500,000+', 'UNICORN - Color By Number & Pixel Art Coloring')\n",
      "\n",
      "\n",
      "('500,000+', 'Superheroes Wallpapers | 4K Backgrounds')\n",
      "\n",
      "\n",
      "('500,000+', 'Photo Designer - Write your name with shapes')\n",
      "\n",
      "\n"
     ]
    }
   ],
   "source": [
    "art=[]\n",
    "\n",
    "print(\"For the Art & Design category: \\n\")\n",
    "for app in android_final:\n",
    "    category=app[9]\n",
    "    if category==\"Art & Design\":\n",
    "        art.append((app[5],app[0]))\n",
    "art_sorted=sorted(art,reverse=True)\n",
    "explore_data(art_sorted,0,3)\n",
    "\n",
    "print('\\n')\n",
    "print(\"For the Art & Design; Creativity category: \\n\")\n",
    "for app in android_final:\n",
    "    category=app[9]\n",
    "    if category==\"Art & Design;Creativity\":\n",
    "        art.append((app[5],app[0]))\n",
    "art_sorted=sorted(art,reverse=True)\n",
    "explore_data(art_sorted,0,3)"
   ]
  },
  {
   "cell_type": "markdown",
   "metadata": {},
   "source": [
    "Both these categories contain similar kind of apps. Not only these, exploring every other category will reveal the same thing; most apps here are targeted for children. This makes sense because for most children their first devices are usually an Android one and come with a Google PlayStore. Taregtting this audience is not very easy as children are found to jump from one app to the other fairly quickly."
   ]
  },
  {
   "cell_type": "code",
   "execution_count": 26,
   "metadata": {},
   "outputs": [
    {
     "name": "stdout",
     "output_type": "stream",
     "text": [
      "('500,000+', 'TANGEDCO Mobile App (Official)')\n",
      "\n",
      "\n",
      "('500,000+', 'Resume PDF Maker / CV Builder')\n",
      "\n",
      "\n",
      "('500,000+', 'MailChimp - Email, Marketing Automation')\n",
      "\n",
      "\n"
     ]
    }
   ],
   "source": [
    "business=[]\n",
    "for app in android_final:\n",
    "    category=app[9]\n",
    "    if category==\"Business\":\n",
    "        business.append((app[5],app[0]))\n",
    "business_sorted=sorted(business,reverse=True)\n",
    "explore_data(business_sorted,0,3)"
   ]
  },
  {
   "cell_type": "markdown",
   "metadata": {},
   "source": [
    "Looking into the Business category, the most popular apps are a resume builder and an Email app. Making a newer app in this category can seem like a good idea but it will lead to problems later on. Let me explain how. A business app is usually targeted towards corporations and other such eshtablishments, who are always looking for cheap options. Let's suppose we created an email app, for free initially, and put it up on the PlayStore. Many corportations will incorporate this app into their eshtabloishments as it is free. But after a while, you will have to charge a fee to keep the app sustaininable. All the corporations will then start looking for alternate ways, ways in which they can void paying you this fee. This will lead them to newer free apps on the PlayStore, as there is no shortage in that regard.\n",
    "<br>Making an app a sustainable one in this category can only be acheived if corporations cannot survive without the app. This can be apps like Cloud Storage, in which switching from one to another is not an easy task. Most busnisses are always looking to expand their data storage capabilities, with digital information becoming more and more popular. Creating a new Cloud Storage app may be expensive, but the payoff will be bigger once we secure loyal customers."
   ]
  },
  {
   "cell_type": "markdown",
   "metadata": {},
   "source": [
    "# Conclusions\n",
    "In this project, we analyzed data about the App Store and Google Play mobile apps with the goal of recommending an app profile that can be profitable for both markets. <br>\n",
    "In the Apple AppStore, we saw that creating an app in the `Utilities` category is most profiatble way as there is no constraint on the specifics of what the app should do. On the Google PlayStore, we concluded that a Business app such as that of a Cloud Storage for corporations is the best way to make money."
   ]
  }
 ],
 "metadata": {
  "kernelspec": {
   "display_name": "Python 3",
   "language": "python",
   "name": "python3"
  },
  "language_info": {
   "codemirror_mode": {
    "name": "ipython",
    "version": 3
   },
   "file_extension": ".py",
   "mimetype": "text/x-python",
   "name": "python",
   "nbconvert_exporter": "python",
   "pygments_lexer": "ipython3",
   "version": "3.6.2"
  }
 },
 "nbformat": 4,
 "nbformat_minor": 4
}
